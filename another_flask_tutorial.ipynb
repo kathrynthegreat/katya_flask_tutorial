{
 "cells": [
  {
   "cell_type": "markdown",
   "metadata": {},
   "source": [
    "# The Hidden Brain of Flask - from beginner to intermediate in smaller steps than usual. "
   ]
  },
  {
   "cell_type": "markdown",
   "metadata": {},
   "source": [
    "### I have attempted many Flask tutorials, often beginning with glee that I could run \"hello world,\" to ending in dismay after a rapid jump to decorators, Jinja2 and file strctures that were truly a black box. \n",
    "\n",
    "Some of the tutorials I've worked through are:\n",
    "\n",
    "http://blog.miguelgrinberg.com/post/the-flask-mega-tutorial-part-i-hello-world\n",
    "\n",
    "https://realpython.com/blog/python/python-web-applications-with-flask-part-i/\n",
    "\n",
    "https://github.com/bev-a-tron/MyFlaskTutorial\n 
    https://realpython.com/blog/python/python-web-applications-with-flask-part-i/
    https://github.com/mjhea0/flask-tracking
    http://flask.pocoo.org/docs/0.11/patterns/sqlalchemy/
    ",
    "\n",




    "and truly many others that left me sad, both because they had bugs in them, and because they assumed too much.\n",
    "\n",
    "I don't purport to be a software or web developer by any means, which is what makes me a good candidate for explaining what I have come to understand, as well as being a digger for truth. I believe if you can grasp the working of the basics, you can go far from there. If you gloss over the fundamentals, then you'll always be lost. \n"
   ]
  },
  {
   "cell_type": "code",
   "execution_count": null,
   "metadata": {
    "collapsed": true
   },
   "outputs": [],
   "source": []
  }
 ],
 "metadata": {
  "kernelspec": {
   "display_name": "Python 3",
   "language": "python",
   "name": "python3"
  },
  "language_info": {
   "codemirror_mode": {
    "name": "ipython",
    "version": 3
   },
   "file_extension": ".py",
   "mimetype": "text/x-python",
   "name": "python",
   "nbconvert_exporter": "python",
   "pygments_lexer": "ipython3",
   "version": "3.5.1"
  }
 },
 "nbformat": 4,
 "nbformat_minor": 0
}
